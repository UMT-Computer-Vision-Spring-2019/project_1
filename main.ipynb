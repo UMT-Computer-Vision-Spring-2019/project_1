{
 "cells": [
  {
   "cell_type": "code",
   "execution_count": null,
   "metadata": {},
   "outputs": [],
   "source": [
    "import numpy as np\n",
    "\n",
    "class Camera(object):\n",
    "    def __init__(self):\n",
    "        self.p = None                   # Pose\n",
    "        self.f = None                   # Focal Length in Pixels\n",
    "        self.c = np.array([None,None])  # \n",
    "        \n",
    "    def projective_transform(self,x):\n",
    "        \"\"\"  \n",
    "        This function performs the projective transform on generalized coordinates in the camera reference frame.\n",
    "        \"\"\"\n",
    "        pass\n",
    "    \n",
    "    def rotational_transform(self,X):\n",
    "        \"\"\"  \n",
    "        This function performs the translation and rotation from world coordinates into generalized camera coordinates.\n",
    "        \"\"\"\n",
    "        cam_x = X[0]\n",
    "        cam_y = X[1]\n",
    "        cam_z = X[2]\n",
    "        roll = X[3]\n",
    "        pitch = X[4]\n",
    "        yaw = X[5]\n",
    "        \n",
    "        r_axis = np.array([[1, 0, 0], [0, 0,-1], [0, 1, 0]])\n",
    "        r_roll = np.array([[np.cos(roll), 0, -1*np.sin(roll)], [0, 1, 0], [np.sin(roll), 0, np.cos(roll)]])\n",
    "        r_pitch = np.array([[1, 0, 0], [0, np.cos(pitch), np.sin(pitch)], [0, -1*np.sin(pitch), np.cos(pitch)]])\n",
    "        r_yaw = np.array([[np.cos(yaw), -1*np.sin(yaw), 0, 0], [np.sin(yaw), np.cos(yaw), 0, 0], [0, 0, 1, 0]])\n",
    "\n",
    "        T = np.array([[1, 0, 0, -cam_x], [0, 1, 0, -cam_y[1]], [0, 0, 1, -cam_z[2]], [0, 0, 0, 1]])\n",
    "\n",
    "        C = r_axis @ r_roll @ r_pitch @ r_yaw @ T\n",
    "\n",
    "        return C @ pts\n",
    "    \n",
    "    def estimate_pose(self,X_gcp,u_gcp):\n",
    "        \"\"\"\n",
    "        This function adjusts the pose vector such that the difference between the observed pixel coordinates u_gcp \n",
    "        and the projected pixels coordinates of X_gcp is minimized.\n",
    "        \"\"\"\n",
    "        pass"
   ]
  }
 ],
 "metadata": {
  "kernelspec": {
   "display_name": "Python 3",
   "language": "python",
   "name": "python3"
  },
  "language_info": {
   "codemirror_mode": {
    "name": "ipython",
    "version": 3
   },
   "file_extension": ".py",
   "mimetype": "text/x-python",
   "name": "python",
   "nbconvert_exporter": "python",
   "pygments_lexer": "ipython3",
   "version": "3.6.5"
  }
 },
 "nbformat": 4,
 "nbformat_minor": 2
}
