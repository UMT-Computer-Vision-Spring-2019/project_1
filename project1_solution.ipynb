{
 "cells": [
  {
   "cell_type": "code",
   "execution_count": 175,
   "metadata": {},
   "outputs": [],
   "source": [
    "import numpy as np\n",
    "from pprint import pprint\n",
    "\n",
    "class Camera(object):\n",
    "    '''Reduce the misfit between the projection of the GCPs and their identified location in the image.\n",
    "       Adjust the pose s.t. the squared difference between the projection of the GCP and its location\n",
    "       in the image is minimized.\n",
    "       Project the GCPs onto the sensor.\n",
    "       Recall: Guess at pose vector.\n",
    "       Then, reduce the misfit between the GCP coordinates that we predicted\n",
    "       using our guessed-at coordinates, and the true coordinates.'''\n",
    "    \n",
    "    def __init__(self, focal_length=None, sensor_x=None, sensor_y=None, pose=None):\n",
    "        self.p = pose # Pose: x, y, z, phi, theta, psi\n",
    "        self.focal_length = focal_length                   # Focal Length in Pixels\n",
    "        self.sensor_x = sensor_x\n",
    "        self.sensor_y = sensor_y\n",
    "        \n",
    "    def projective_transform(self, X):\n",
    "        \"\"\"  \n",
    "        This function performs the projective transform on generalized coordinates in the camera reference frame.\n",
    "        Expects x, y, z (non-generalized).\n",
    "        \"\"\"\n",
    "        x = X[:, 0]/X[:, 2]\n",
    "        y = X[:, 0]/X[:, 2]\n",
    "        u = self.focal_length*x + self.sensor_x / 2\n",
    "        v = self.focal_length*y + self.sensor_y / 2 # the coordinates that input intensities map to\n",
    "        u = np.hstack(u)\n",
    "        v = np.hstack(v)\n",
    "        return u, v\n",
    "    \n",
    "    def rotational_transform(self, X):\n",
    "        '''Expects non-homogeneous coordinates.'''\n",
    "        s = np.sin\n",
    "        c = np.cos\n",
    "        X_h = np.zeros((X.shape[0], X.shape[1]+1))\n",
    "        X_h[:, :X.shape[1]] = X\n",
    "        X_h[:, 3] = np.ones((X.shape[0]))\n",
    "        X_cam = self.p\n",
    "        phi = X_cam[3]\n",
    "        theta = X_cam[4]\n",
    "        p = X_cam[5]\n",
    "        trans = np.mat(([1, 0, 0, -X_cam[0]], [0, 1, 0, -X_cam[1]], \n",
    "                          [0, 0, 1, -X_cam[2]], [0, 0, 0, 1]))\n",
    "        r_yaw = np.mat(([c(phi), -s(phi), 0, 0], [s(phi), c(phi), 0, 0], [0, 0, 1, 0]))\n",
    "        r_pitch = np.mat(([1, 0, 0], [0, c(theta), s(theta)], [0, -s(theta), c(theta)]))\n",
    "        r_roll = np.mat(([c(p), 0, -s(p)], [0, 1, 0], [s(p), 0, c(p)]))\n",
    "        r_axis = np.mat(([1, 0, 0], [0, 0, -1], [0, 1, 0]))\n",
    "        C = r_axis @ r_roll @ r_pitch @ r_yaw @ trans\n",
    "        Xt = C @ X_h.T\n",
    "        return Xt.T\n",
    "    \n",
    "    def _func(self, x, p):\n",
    "        self.p = p\n",
    "        X = self.rotational_transform(x)\n",
    "        u, v = self.projective_transform(X)\n",
    "        u = u.T\n",
    "        v = v.T\n",
    "        z = np.asarray(np.hstack((u, v)))\n",
    "        return z.ravel()\n",
    "    \n",
    "    def _errfunc(self, p, x, y, func, err):\n",
    "        xx = func(x, p)\n",
    "        ss = y.ravel() - xx\n",
    "        return ss**2\n",
    "    \n",
    "    def estimate_pose(self, X_gcp, u_gcp):\n",
    "        \"\"\"\n",
    "        This function adjusts the pose vector such that the difference between the observed pixel coordinates u_gcp \n",
    "        and the projected pixels coordinates of X_gcp is minimized.\n",
    "        \"\"\"\n",
    "        from scipy.optimize import leastsq\n",
    "        err = np.ones(X_gcp.shape)\n",
    "        out = leastsq(self._errfunc, self.p, args=(X_gcp, u_gcp, self._func, err), full_output=1)\n",
    "        return out[0]\n",
    "\n"
   ]
  },
  {
   "cell_type": "code",
   "execution_count": 186,
   "metadata": {},
   "outputs": [
    {
     "name": "stdout",
     "output_type": "stream",
     "text": [
      "[ 2.71425399e+05  5.19057822e+06  8.52977587e+03 -1.38352391e+00\n",
      "  6.25214408e+00 -4.38967905e-01]\n"
     ]
    }
   ],
   "source": [
    "focal_length = 2448.0\n",
    "sensor_y = 2448\n",
    "sensor_x = 3264\n",
    "pose = [270000, 5293938, 1000, 0, 0, 0]\n",
    "\n",
    "coords = np.loadtxt('coordinates.txt', delimiter=',')\n",
    "\n",
    "u_gcp = coords[:, :2]\n",
    "X_gcp = coords[:, 2:]\n",
    "\n",
    "c = Camera(focal_length=focal_length, sensor_x=sensor_x, sensor_y=sensor_y, pose=pose)\n",
    "\n",
    "p = c.estimate_pose(X_gcp, u_gcp)\n",
    "print(p)\n"
   ]
  },
  {
   "cell_type": "code",
   "execution_count": null,
   "metadata": {},
   "outputs": [],
   "source": []
  }
 ],
 "metadata": {
  "kernelspec": {
   "display_name": "Python 3",
   "language": "python",
   "name": "python3"
  },
  "language_info": {
   "codemirror_mode": {
    "name": "ipython",
    "version": 3
   },
   "file_extension": ".py",
   "mimetype": "text/x-python",
   "name": "python",
   "nbconvert_exporter": "python",
   "pygments_lexer": "ipython3",
   "version": "3.6.8"
  }
 },
 "nbformat": 4,
 "nbformat_minor": 2
}
